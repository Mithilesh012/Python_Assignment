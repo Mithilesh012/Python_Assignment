{
 "cells": [
  {
   "cell_type": "code",
   "execution_count": 2,
   "id": "8e2cfd97",
   "metadata": {},
   "outputs": [],
   "source": [
    "# Mutuable\n",
    "# Indexable\n",
    "# Slicing\n",
    "# Diff data type \n",
    "# Duplicate"
   ]
  },
  {
   "cell_type": "markdown",
   "id": "57911933",
   "metadata": {},
   "source": [
    "## List\n"
   ]
  },
  {
   "cell_type": "code",
   "execution_count": 3,
   "id": "46970035",
   "metadata": {
    "scrolled": true
   },
   "outputs": [
    {
     "name": "stdout",
     "output_type": "stream",
     "text": [
      "apple\n",
      "graphes\n"
     ]
    }
   ],
   "source": [
    "\n",
    "\n",
    "list1=[\"apple\",\"banana\",\"cherry\",\"mango\",\"papaya\",\"kiwi\",\"graphes\"]\n",
    "\n",
    "print(list1[0]) #indexing\n",
    "print(list1[-1]) #negavtive indexing"
   ]
  },
  {
   "cell_type": "code",
   "execution_count": 4,
   "id": "76665551",
   "metadata": {},
   "outputs": [
    {
     "name": "stdout",
     "output_type": "stream",
     "text": [
      "['banana', 'cherry', 'mango']\n",
      "['banana', 'cherry', 'mango']\n"
     ]
    }
   ],
   "source": [
    "# Slicing\n",
    "print(list1[1:4]) #strat:stop:stpes(diffrance)\n",
    "print(list1[-6:-3])"
   ]
  },
  {
   "cell_type": "code",
   "execution_count": 5,
   "id": "956eb7cd",
   "metadata": {},
   "outputs": [
    {
     "name": "stdout",
     "output_type": "stream",
     "text": [
      "['apple', 'mango', 'graphes']\n",
      "['banana', 'mango']\n"
     ]
    }
   ],
   "source": [
    "print(list1[::3]) #diffrent \" : \"\n",
    "print(list1[-6:-3:2])\n"
   ]
  },
  {
   "cell_type": "code",
   "execution_count": 6,
   "id": "ee99abb7",
   "metadata": {},
   "outputs": [],
   "source": [
    "# methods"
   ]
  },
  {
   "cell_type": "code",
   "execution_count": 7,
   "id": "2c68b745",
   "metadata": {},
   "outputs": [
    {
     "name": "stdout",
     "output_type": "stream",
     "text": [
      "['apple', 'banana', 'cherry', 'mango', 'papaya', 'kiwi', 'graphes']\n",
      "['apple', 'banana', 'cherry', 'mango', 'papaya', 'kiwi', 'graphes', 'Pineapple']\n",
      "[1, 'pineapple', 2, 'orange']\n",
      "[1, 2, 'hello', 'heee!']\n"
     ]
    }
   ],
   "source": [
    "# append -late value\n",
    "\n",
    "l1=[\"apple\",\"banana\",\"cherry\",\"mango\",\"papaya\",\"kiwi\",\"graphes\"]\n",
    "print(l1)\n",
    "l1.append(\"Pineapple\")\n",
    "print(l1)\n",
    "\n",
    "# Insert --inedex number \n",
    "l2=[1,2,\"orange\"]\n",
    "l2.insert(1,\"pineapple\")\n",
    "print(l2)\n",
    "\n",
    "\n",
    "# extend lsit-mixed\n",
    "l3=[1,2]\n",
    "l4=[\"hello\",\"heee!\"]\n",
    "l3.extend(l4)\n",
    "print(l3)"
   ]
  },
  {
   "cell_type": "code",
   "execution_count": 8,
   "id": "5b11f1b1",
   "metadata": {
    "scrolled": true
   },
   "outputs": [
    {
     "name": "stdout",
     "output_type": "stream",
     "text": [
      "[1]\n",
      "['hello']\n",
      "[]\n"
     ]
    }
   ],
   "source": [
    "#pop -late value\n",
    "l3=[1,2]\n",
    "l3.pop()\n",
    "print(l3)\n",
    "\n",
    "#delet -inedex number \n",
    "del l4[1]\n",
    "print(l4)\n",
    "\n",
    "#clear - all clean\n",
    "l2.clear()\n",
    "print(l2)"
   ]
  },
  {
   "cell_type": "code",
   "execution_count": 9,
   "id": "c189e8f6",
   "metadata": {},
   "outputs": [
    {
     "name": "stdout",
     "output_type": "stream",
     "text": [
      "[56, 83, 99, 188]\n",
      "['h', 'j', 'n', 'r', 't']\n",
      "[1, 2, 'q', 'w']\n"
     ]
    }
   ],
   "source": [
    "list4=[83,56,188,99]\n",
    "list5=[\"h\",\"n\",\"j\",\"t\",\"r\"]\n",
    "list6=[1,2,\"q\",\"w\"]\n",
    "\n",
    "list4.sort()\n",
    "print(list4)\n",
    "list5.sort()\n",
    "print(list5)\n",
    "\n",
    "#list6.sort() # '<' is not support between the 'int' and 'str'\n",
    "print(list6)\n"
   ]
  },
  {
   "cell_type": "code",
   "execution_count": 10,
   "id": "f45d2d4c",
   "metadata": {},
   "outputs": [
    {
     "name": "stdout",
     "output_type": "stream",
     "text": [
      "<class 'list'>\n"
     ]
    }
   ],
   "source": [
    "li=[1,\"hello\",2,\"by\"]\n",
    "print(type(li))"
   ]
  },
  {
   "cell_type": "code",
   "execution_count": 11,
   "id": "9ed03be3",
   "metadata": {},
   "outputs": [
    {
     "name": "stdout",
     "output_type": "stream",
     "text": [
      "[4, 5, 6]\n"
     ]
    }
   ],
   "source": [
    "l10=[]\n",
    "l9=[4,5,6]\n",
    "for x in l9:\n",
    "    l10.append(x)\n",
    "print(l10)"
   ]
  },
  {
   "cell_type": "code",
   "execution_count": 12,
   "id": "bfc646d4",
   "metadata": {},
   "outputs": [
    {
     "name": "stdout",
     "output_type": "stream",
     "text": [
      "13\n",
      "abcd\n"
     ]
    }
   ],
   "source": [
    "a=[1,2,4,6,\"a\",\"b\",\"c\",\"d\"]\n",
    "a1=0\n",
    "a2=\"\"\n",
    "for x in a:\n",
    "    if type(x) == int:\n",
    "        a1+=x\n",
    "    else:\n",
    "        a2+=x\n",
    "        \n",
    "        \n",
    "print(a1)\n",
    "print(a2)"
   ]
  },
  {
   "cell_type": "code",
   "execution_count": 13,
   "id": "7de7149f",
   "metadata": {},
   "outputs": [
    {
     "name": "stdout",
     "output_type": "stream",
     "text": [
      "[0, 2, 4, 6, 8, 10, 12, 14, 16, 18]\n"
     ]
    }
   ],
   "source": [
    "list12=[]\n",
    "for x in range(20):\n",
    "    if x%2==0:\n",
    "        list12.append(x)\n",
    "print(list12)"
   ]
  },
  {
   "cell_type": "code",
   "execution_count": 14,
   "id": "8359118d",
   "metadata": {},
   "outputs": [],
   "source": [
    "#list comprehension\n",
    "# creat new list for iterable object\n",
    "# rules:\n",
    "# 1) one to more for loop\n",
    "# 2) zero to more if condition\n",
    "# syntax:\n",
    "#     list1=[expression for loop if condition]\n",
    "#     list2=[expression if condition else condtion  for loop ]\n",
    "# single line expression"
   ]
  },
  {
   "cell_type": "code",
   "execution_count": 15,
   "id": "63f31679",
   "metadata": {},
   "outputs": [
    {
     "name": "stdout",
     "output_type": "stream",
     "text": [
      "[0, 2, 4, 6, 8, 10, 12, 14, 16, 18]\n"
     ]
    }
   ],
   "source": [
    "a=[x for x in range(20) if x%2==0]\n",
    "print(a)"
   ]
  },
  {
   "cell_type": "code",
   "execution_count": 16,
   "id": "85813320",
   "metadata": {},
   "outputs": [
    {
     "name": "stdout",
     "output_type": "stream",
     "text": [
      "[0, 'invalid', 2, 'invalid', 4, 'invalid', 6, 'invalid', 8, 'invalid', 10, 'invalid', 12, 'invalid', 14, 'invalid', 16, 'invalid', 18, 'invalid']\n"
     ]
    }
   ],
   "source": [
    "list12=[]\n",
    "for x in range(20):\n",
    "    if x%2==0:\n",
    "        list12.append(x)\n",
    "    else:\n",
    "        list12.append(\"invalid\")\n",
    "print(list12)"
   ]
  },
  {
   "cell_type": "code",
   "execution_count": 17,
   "id": "a8b4dd43",
   "metadata": {},
   "outputs": [
    {
     "name": "stdout",
     "output_type": "stream",
     "text": [
      "[0, 'invalid', 2, 'invalid', 4, 'invalid', 6, 'invalid', 8, 'invalid', 10, 'invalid', 12, 'invalid', 14, 'invalid', 16, 'invalid', 18, 'invalid']\n"
     ]
    }
   ],
   "source": [
    "a=[x if x%2==0  else \"invalid\" for x in range(20)]\n",
    "print(a)"
   ]
  },
  {
   "cell_type": "code",
   "execution_count": 18,
   "id": "1cfb5e1d",
   "metadata": {},
   "outputs": [
    {
     "name": "stdout",
     "output_type": "stream",
     "text": [
      "[1, 2, 4, 5, 7, 8, 9]\n"
     ]
    }
   ],
   "source": [
    "a = [1, 1, 2, 4, 5, 5, 7, 8, 8, 9, 9]\n",
    "x=[]\n",
    "\n",
    "for i in a:\n",
    "    if i not in x:\n",
    "        x.append(i)\n",
    "print(x)\n"
   ]
  },
  {
   "cell_type": "markdown",
   "id": "9bfc9564",
   "metadata": {},
   "source": [
    "## Tuple\n"
   ]
  },
  {
   "cell_type": "code",
   "execution_count": 19,
   "id": "49c3d1fc",
   "metadata": {},
   "outputs": [
    {
     "name": "stdout",
     "output_type": "stream",
     "text": [
      "type[1]\n"
     ]
    }
   ],
   "source": [
    "#tuple is immutable\n",
    "a=(1)\n",
    "print(type[a])"
   ]
  },
  {
   "cell_type": "code",
   "execution_count": 20,
   "id": "d6a18e71",
   "metadata": {},
   "outputs": [
    {
     "name": "stdout",
     "output_type": "stream",
     "text": [
      "[(12, 'tuple'), [22, 55, 44]]\n"
     ]
    }
   ],
   "source": [
    "t1=(12,\"tuple\")\n",
    "t2=[22,55,44]\n",
    "t3=[t1,t2]\n",
    "\n",
    "print(t3)\n",
    "#print([t1+t2])#can only concatenate tuple (not \"list\") to tuple\n"
   ]
  },
  {
   "cell_type": "code",
   "execution_count": 21,
   "id": "2fb6d88e",
   "metadata": {},
   "outputs": [],
   "source": [
    "#tuple is immutable\n",
    "# diff allows\n",
    "# duplicate allow\n",
    "# indexing\n",
    "# slicing\n",
    "# represent by()"
   ]
  },
  {
   "cell_type": "code",
   "execution_count": 22,
   "id": "df8156ef",
   "metadata": {},
   "outputs": [
    {
     "name": "stdout",
     "output_type": "stream",
     "text": [
      "(1, 2, 3, 4, 5)\n",
      "[1, 5, 3, 4, 5]\n"
     ]
    }
   ],
   "source": [
    "a=[1,2,3,4,5]\n",
    "b=set(a)\n",
    "c=tuple(b)\n",
    "print(tuple(b))\n",
    "a[1]=5\n",
    "print(a)"
   ]
  },
  {
   "cell_type": "code",
   "execution_count": 23,
   "id": "f4ffff43",
   "metadata": {},
   "outputs": [
    {
     "name": "stdout",
     "output_type": "stream",
     "text": [
      "(1, 2, 3, 4, 5)\n"
     ]
    }
   ],
   "source": [
    "a=[1,2,3,4,5]\n",
    "b=set(a)\n",
    "print(tuple(b))"
   ]
  },
  {
   "cell_type": "code",
   "execution_count": 24,
   "id": "45394f98",
   "metadata": {},
   "outputs": [
    {
     "name": "stdout",
     "output_type": "stream",
     "text": [
      "<class 'tuple'>\n"
     ]
    }
   ],
   "source": [
    "a=1,\n",
    "print(type(a))"
   ]
  },
  {
   "cell_type": "code",
   "execution_count": 25,
   "id": "10ae88e2",
   "metadata": {},
   "outputs": [
    {
     "name": "stdout",
     "output_type": "stream",
     "text": [
      "[22, 55, 44]\n"
     ]
    }
   ],
   "source": [
    "t=(12,\"python\",5.9,True)\n",
    "tt=(22,44,55)\n",
    "t3=(t1,t2)\n",
    "print(t3[1])"
   ]
  },
  {
   "cell_type": "code",
   "execution_count": 26,
   "id": "630dff17",
   "metadata": {},
   "outputs": [
    {
     "name": "stdout",
     "output_type": "stream",
     "text": [
      "(12, 'python', 5.9, True)\n"
     ]
    }
   ],
   "source": [
    "#t.pop(12)  #can only concatenate tuple (not \"list\") to tuple\n",
    "\n",
    "print(t)"
   ]
  },
  {
   "cell_type": "code",
   "execution_count": 27,
   "id": "3ab0f28b",
   "metadata": {},
   "outputs": [
    {
     "name": "stdout",
     "output_type": "stream",
     "text": [
      "4\n",
      "1\n"
     ]
    }
   ],
   "source": [
    "print(len(t))\n",
    "print(t.count(12))"
   ]
  },
  {
   "cell_type": "code",
   "execution_count": 28,
   "id": "e74186be",
   "metadata": {},
   "outputs": [
    {
     "name": "stdout",
     "output_type": "stream",
     "text": [
      "[998, 7899, 9985, 44556]\n",
      "44556\n",
      "998\n"
     ]
    }
   ],
   "source": [
    "a=998,9985,44556,7899\n",
    "print(sorted(a))\n",
    "print(max(a))\n",
    "print(min(a))"
   ]
  },
  {
   "cell_type": "markdown",
   "id": "f6f77529",
   "metadata": {},
   "source": [
    "# #Set"
   ]
  },
  {
   "cell_type": "code",
   "execution_count": 29,
   "id": "f00a5f74",
   "metadata": {},
   "outputs": [
    {
     "name": "stdout",
     "output_type": "stream",
     "text": [
      "<class 'set'>\n"
     ]
    }
   ],
   "source": [
    "a=set()\n",
    "print(type(a))"
   ]
  },
  {
   "cell_type": "code",
   "execution_count": 30,
   "id": "7e6088ff",
   "metadata": {},
   "outputs": [
    {
     "name": "stdout",
     "output_type": "stream",
     "text": [
      "<class 'dict'>\n"
     ]
    }
   ],
   "source": [
    "a={}\n",
    "print(type(a))"
   ]
  },
  {
   "cell_type": "code",
   "execution_count": 31,
   "id": "c2427108",
   "metadata": {},
   "outputs": [],
   "source": [
    "product1=[44,66,88]"
   ]
  },
  {
   "cell_type": "code",
   "execution_count": 32,
   "id": "bbbd6e3b",
   "metadata": {},
   "outputs": [
    {
     "name": "stdout",
     "output_type": "stream",
     "text": [
      "{88, 1, 66, 99}\n",
      "{1, 2, 3, 4, 66, 99, 88}\n"
     ]
    }
   ],
   "source": [
    "a=set()\n",
    "b={1,2,3,4}\n",
    "set3={1,66,88,99}\n",
    "a.update(set3)\n",
    "b.update(set3)\n",
    "print(a)\n",
    "print(b)"
   ]
  },
  {
   "cell_type": "code",
   "execution_count": 33,
   "id": "282f93c2",
   "metadata": {},
   "outputs": [
    {
     "name": "stdout",
     "output_type": "stream",
     "text": [
      "{1, 66, 99, 33, 88}\n"
     ]
    }
   ],
   "source": [
    "set3.add(33)\n",
    "print(set3)"
   ]
  },
  {
   "cell_type": "code",
   "execution_count": 34,
   "id": "f36fba77",
   "metadata": {},
   "outputs": [
    {
     "name": "stdout",
     "output_type": "stream",
     "text": [
      "False\n",
      "True\n",
      "{1, 2, 3, 4, 5}\n",
      "{1, 2, 3, 4, 5, 6, 7, 8, 9}\n"
     ]
    }
   ],
   "source": [
    "s1={1,2,3,4,5}\n",
    "s2={1,2,3,4,5,6,7,8,9}\n",
    "print(s2.issubset(s1))\n",
    "print(s1.issubset(s2))\n",
    "print(s1.intersection(s2))\n",
    "print(s1.union(s2))"
   ]
  },
  {
   "cell_type": "code",
   "execution_count": 35,
   "id": "c229d8dc",
   "metadata": {},
   "outputs": [
    {
     "name": "stdout",
     "output_type": "stream",
     "text": [
      "set() <class 'set'>\n"
     ]
    }
   ],
   "source": [
    "s55=set()\n",
    "print(s55,type(s55))"
   ]
  },
  {
   "cell_type": "code",
   "execution_count": 36,
   "id": "50045316",
   "metadata": {},
   "outputs": [
    {
     "name": "stdout",
     "output_type": "stream",
     "text": [
      "{1, 2, 3, 4, 5}\n"
     ]
    }
   ],
   "source": [
    "for i in range(1,6):\n",
    "    s55.add(i)\n",
    "print(s55)"
   ]
  },
  {
   "cell_type": "code",
   "execution_count": 37,
   "id": "72aedc18",
   "metadata": {},
   "outputs": [
    {
     "name": "stdout",
     "output_type": "stream",
     "text": [
      "frozenset() <class 'frozenset'>\n"
     ]
    }
   ],
   "source": [
    "s22=frozenset()\n",
    "print(s22,type(s22))\n"
   ]
  },
  {
   "cell_type": "code",
   "execution_count": 40,
   "id": "8fd87c39",
   "metadata": {},
   "outputs": [
    {
     "name": "stdout",
     "output_type": "stream",
     "text": [
      "frozenset({1, 2, 3, 6, 7, 555, 45, 766}) <class 'frozenset'>\n"
     ]
    },
    {
     "ename": "TypeError",
     "evalue": "'frozenset' object does not support item assignment",
     "output_type": "error",
     "traceback": [
      "\u001b[1;31m---------------------------------------------------------------------------\u001b[0m",
      "\u001b[1;31mTypeError\u001b[0m                                 Traceback (most recent call last)",
      "Cell \u001b[1;32mIn[40], line 4\u001b[0m\n\u001b[0;32m      2\u001b[0m fnum\u001b[38;5;241m=\u001b[39m\u001b[38;5;28mfrozenset\u001b[39m(num)\n\u001b[0;32m      3\u001b[0m \u001b[38;5;28mprint\u001b[39m(fnum,\u001b[38;5;28mtype\u001b[39m(fnum))\n\u001b[1;32m----> 4\u001b[0m fnum[\u001b[38;5;241m4\u001b[39m]\u001b[38;5;241m=\u001b[39m\u001b[38;5;241m666\u001b[39m\n\u001b[0;32m      5\u001b[0m \u001b[38;5;28mprint\u001b[39m(fnum)\n",
      "\u001b[1;31mTypeError\u001b[0m: 'frozenset' object does not support item assignment"
     ]
    }
   ],
   "source": [
    "num=[1,2,3,45,555,6,6,7,7,766]\n",
    "fnum=frozenset(num)\n",
    "print(fnum,type(fnum))\n",
    "fnum[4]=666\n",
    "print(fnum)"
   ]
  },
  {
   "cell_type": "code",
   "execution_count": 41,
   "id": "5a97122e",
   "metadata": {},
   "outputs": [
    {
     "name": "stdout",
     "output_type": "stream",
     "text": [
      "{'a': 10, 'name': 'python', 1: 'abc'} <class 'dict'>\n",
      "frozenset({'name', 'a', 1}) <class 'frozenset'>\n"
     ]
    }
   ],
   "source": [
    "s33={'a':10,'name':\"python\",1:\"abc\"}\n",
    "print(s33,type(s33))\n",
    "fnum1=frozenset(s33)\n",
    "print(fnum1,type(fnum1))"
   ]
  },
  {
   "cell_type": "markdown",
   "id": "623b4e12",
   "metadata": {},
   "source": [
    "## Dict"
   ]
  },
  {
   "cell_type": "code",
   "execution_count": 42,
   "id": "a6fb1318",
   "metadata": {},
   "outputs": [
    {
     "name": "stdout",
     "output_type": "stream",
     "text": [
      "{}\n",
      "{} <class 'dict'>\n"
     ]
    }
   ],
   "source": [
    "#in pair of key and value\n",
    "#dict is unodered\n",
    "#ex:like map\n",
    "\n",
    "dict1={}\n",
    "print(dict1)\n",
    "#check type \n",
    "print(dict1,type(dict1))\n"
   ]
  },
  {
   "cell_type": "code",
   "execution_count": 43,
   "id": "0caa3076",
   "metadata": {},
   "outputs": [
    {
     "name": "stdout",
     "output_type": "stream",
     "text": [
      "{'a': 'python', 2: 'course', 3: 'i like'} <class 'dict'>\n",
      "dict_values(['python', 'course', 'i like'])\n",
      "dict_keys(['a', 2, 3])\n"
     ]
    }
   ],
   "source": [
    "d1={\"a\":\"python\",2:\"course\",3:\"i like\"}\n",
    "print(d1,type(d1))\n",
    "print(d1.values())\n",
    "print(d1.keys())\n"
   ]
  },
  {
   "cell_type": "code",
   "execution_count": 44,
   "id": "799c072a",
   "metadata": {},
   "outputs": [
    {
     "name": "stdout",
     "output_type": "stream",
     "text": [
      "{'a': 'python', 2: 'course', 3: 'i like'}\n"
     ]
    }
   ],
   "source": [
    "a={\"a\":\"python\",2:\"course\",3:\"i like\"}\n",
    "print(a)"
   ]
  },
  {
   "cell_type": "code",
   "execution_count": 45,
   "id": "ce1f7475",
   "metadata": {},
   "outputs": [
    {
     "name": "stdout",
     "output_type": "stream",
     "text": [
      "{'a': 'python', 2: 'course', 3: 'i like'}\n"
     ]
    }
   ],
   "source": [
    "D1={\"a\":\"python\",2:\"course\",3:\"i like\"}\n",
    "print(d1)"
   ]
  },
  {
   "cell_type": "code",
   "execution_count": 46,
   "id": "fa0e7388",
   "metadata": {},
   "outputs": [
    {
     "name": "stdout",
     "output_type": "stream",
     "text": [
      "{1: 'python', 2: 'course', 3: {'a': 'welcome', 'b': 'to', 'c': 'quantan'}}\n"
     ]
    }
   ],
   "source": [
    "d2={1:'hello'}\n",
    "#nested dict\n",
    "d2={1:\"python\",2:\"course\",3:{'a':\"welcome\",'b':\"to\",'c':\"quantan\"}}\n",
    "print(d2)"
   ]
  },
  {
   "cell_type": "code",
   "execution_count": 47,
   "id": "0ef677fd",
   "metadata": {},
   "outputs": [
    {
     "name": "stdout",
     "output_type": "stream",
     "text": [
      "{}\n",
      "{0: 'welcome', 1: 'to', 2: 'quaak', 'a': 12, 'b': [1, 2, 3, 4, 5]} <class 'dict'>\n",
      "12\n",
      "[1, 2, 3, 4, 5]\n"
     ]
    }
   ],
   "source": [
    "d3={}\n",
    "print(d3)\n",
    "\n",
    "d3[0]=\"welcome\"\n",
    "d3[1]=\"to\"\n",
    "d3[2]=\"quaak\"\n",
    "d3['a']=12\n",
    "d3['b']=[1,2,3,4,5]\n",
    "print(d3,type(d3))\n",
    "\n",
    "print(d3['a'])\n",
    "\n",
    "print(d3.get(\"b\"))"
   ]
  },
  {
   "cell_type": "code",
   "execution_count": 48,
   "id": "9ac1b67e",
   "metadata": {},
   "outputs": [
    {
     "name": "stdout",
     "output_type": "stream",
     "text": [
      "{0: 'welcome', 1: 'to', 2: 'quaak', 'a': 12, 'b': [1, 2, 3, 4, 5]}\n"
     ]
    }
   ],
   "source": [
    "d5={5:'welcome',6:'quaak',7:'inst',\"A\":{1:\"hello\",2:\"python\"}}\n",
    "\n",
    "del d5['A'][2]\n",
    "print(d3)"
   ]
  },
  {
   "cell_type": "code",
   "execution_count": 49,
   "id": "42eb1da2",
   "metadata": {},
   "outputs": [],
   "source": [
    "d7={5:'welcome',6:'quaak',7:'inst','b':'wlcomed'}\n",
    "#e=d7.pop(6)\n",
    "#print(c)\n",
    "#print(d7)"
   ]
  },
  {
   "cell_type": "code",
   "execution_count": 50,
   "id": "e6b49087",
   "metadata": {},
   "outputs": [
    {
     "name": "stdout",
     "output_type": "stream",
     "text": [
      "{5: 'welcome', 6: 'quaak', 7: 'inst'}\n"
     ]
    }
   ],
   "source": [
    "e=d7.popitem()\n",
    "print(d7)"
   ]
  },
  {
   "cell_type": "code",
   "execution_count": 51,
   "id": "64713773",
   "metadata": {},
   "outputs": [
    {
     "name": "stdout",
     "output_type": "stream",
     "text": [
      "{}\n",
      "dict_items([(5, 'welcome'), (6, 'quaak'), (7, 'inst'), ('A', {1: 'hello'})])\n"
     ]
    }
   ],
   "source": [
    "d7.clear()\n",
    "print(d7)\n",
    "print(d5.items())"
   ]
  },
  {
   "cell_type": "code",
   "execution_count": 52,
   "id": "e4ce49a2",
   "metadata": {},
   "outputs": [
    {
     "name": "stdout",
     "output_type": "stream",
     "text": [
      "33\n",
      "66\n",
      "303\n"
     ]
    }
   ],
   "source": [
    "s={'a':[11,22,33],'b':[44,55,66],'c':[101,202,303]}\n",
    "print(max(s['a']))\n",
    "print(max(s['b']))\n",
    "print(max(s['c']))"
   ]
  },
  {
   "cell_type": "code",
   "execution_count": 53,
   "id": "f1f978c2",
   "metadata": {},
   "outputs": [
    {
     "name": "stdout",
     "output_type": "stream",
     "text": [
      "a = 33\n",
      "b = 66\n",
      "c = 303\n"
     ]
    }
   ],
   "source": [
    "s={'a':[11,22,33],'b':[44,55,66],'c':[101,202,303]}\n",
    "for i in s:\n",
    "    for j in i:\n",
    "        print(i,\"=\",max(s[j]))\n",
    "    \n"
   ]
  },
  {
   "cell_type": "markdown",
   "id": "374bc455",
   "metadata": {},
   "source": [
    "## String"
   ]
  },
  {
   "cell_type": "code",
   "execution_count": 54,
   "id": "97fdd82a",
   "metadata": {},
   "outputs": [
    {
     "name": "stdout",
     "output_type": "stream",
     "text": [
      "<class 'str'>\n",
      "<class 'str'>\n",
      "<class 'str'>\n"
     ]
    }
   ],
   "source": [
    "#represent by: quoters\n",
    "a=''\n",
    "b=\"\"\n",
    "c=''''''\n",
    "\n",
    "print(type(a))\n",
    "print(type(b))\n",
    "print(type(c))"
   ]
  },
  {
   "cell_type": "code",
   "execution_count": 55,
   "id": "727bc70a",
   "metadata": {},
   "outputs": [
    {
     "name": "stdout",
     "output_type": "stream",
     "text": [
      "29\n",
      "python goood this to under stand it \n",
      "PYTHON GOOOD THIS TO UNDER STAND IT \n",
      "True\n",
      "False\n"
     ]
    }
   ],
   "source": [
    "str1=\"python goood this to under stand it \"\n",
    "print(str1.index(\"a\"))\n",
    "print(str1.lower())\n",
    "print(str1.upper())\n",
    "print(str1.islower())\n",
    "print(str1.isupper())"
   ]
  },
  {
   "cell_type": "code",
   "execution_count": 56,
   "id": "c991e74c",
   "metadata": {},
   "outputs": [
    {
     "name": "stdout",
     "output_type": "stream",
     "text": [
      "False\n",
      "False\n",
      "False\n"
     ]
    }
   ],
   "source": [
    "s2=\"student @123\"\n",
    "print(s2.isalpha())\n",
    "print(s2.isdigit())\n",
    "print(s2.isalnum())\n"
   ]
  },
  {
   "cell_type": "code",
   "execution_count": 57,
   "id": "424ef1ed",
   "metadata": {},
   "outputs": [
    {
     "name": "stdout",
     "output_type": "stream",
     "text": [
      "A string is a sequence of the character\n",
      "A String Is A Sequence Of The Character\n"
     ]
    }
   ],
   "source": [
    "s3=\"a string is a sequence of the character\"\n",
    "print(s3.capitalize())# all sentance first letter\n",
    "print(s3.title()) # all sentence every space after the capital"
   ]
  },
  {
   "cell_type": "code",
   "execution_count": 58,
   "id": "f6571829",
   "metadata": {
    "scrolled": true
   },
   "outputs": [
    {
     "name": "stdout",
     "output_type": "stream",
     "text": [
      "student <class 'str'>\n"
     ]
    }
   ],
   "source": [
    "s2=\"student\"\n",
    "print(s2,type(s2))\n"
   ]
  },
  {
   "cell_type": "code",
   "execution_count": 59,
   "id": "bdb9c9de",
   "metadata": {},
   "outputs": [
    {
     "ename": "TypeError",
     "evalue": "'str' object does not support item assignment",
     "output_type": "error",
     "traceback": [
      "\u001b[1;31m---------------------------------------------------------------------------\u001b[0m",
      "\u001b[1;31mTypeError\u001b[0m                                 Traceback (most recent call last)",
      "Cell \u001b[1;32mIn[59], line 1\u001b[0m\n\u001b[1;32m----> 1\u001b[0m s\u001b[38;5;241m=\u001b[39ms2[\u001b[38;5;241m2\u001b[39m]\u001b[38;5;241m=\u001b[39m\u001b[38;5;124m'\u001b[39m\u001b[38;5;124my\u001b[39m\u001b[38;5;124m'\u001b[39m\n\u001b[0;32m      2\u001b[0m \u001b[38;5;28mprint\u001b[39m(s)\n",
      "\u001b[1;31mTypeError\u001b[0m: 'str' object does not support item assignment"
     ]
    }
   ],
   "source": [
    "s=s2[2]='y'\n",
    "print(s)"
   ]
  },
  {
   "cell_type": "code",
   "execution_count": 60,
   "id": "b00a19ab",
   "metadata": {},
   "outputs": [
    {
     "name": "stdout",
     "output_type": "stream",
     "text": [
      "('apple', 'banana', 'mango') <class 'tuple'>\n"
     ]
    }
   ],
   "source": [
    "#formatting:\n",
    "fruit=\"apple\",\"banana\",\"mango\"\n",
    "print(fruit,type(fruit))"
   ]
  },
  {
   "cell_type": "code",
   "execution_count": 61,
   "id": "a874804c",
   "metadata": {},
   "outputs": [
    {
     "name": "stdout",
     "output_type": "stream",
     "text": [
      "mango banana apple \n"
     ]
    }
   ],
   "source": [
    "fruit=\"{1}{2}{0}\".format(\"apple \",\"mango \",\"banana \")\n",
    "print(fruit)"
   ]
  },
  {
   "cell_type": "code",
   "execution_count": 62,
   "id": "53a30a17",
   "metadata": {},
   "outputs": [
    {
     "name": "stdout",
     "output_type": "stream",
     "text": [
      "apple mango banana \n"
     ]
    }
   ],
   "source": [
    "fruit=\"{a}{b}{c}\".format(a=\"apple \",b=\"mango \",c=\"banana \")\n",
    "print(fruit)"
   ]
  },
  {
   "cell_type": "code",
   "execution_count": 63,
   "id": "c42ef375",
   "metadata": {},
   "outputs": [
    {
     "name": "stdout",
     "output_type": "stream",
     "text": [
      "interpreted\n"
     ]
    }
   ],
   "source": [
    "str2=\"python is an interpreted high level lanuage gernal perpose for use it\"\n",
    "\n",
    "print(str2[13:24])"
   ]
  },
  {
   "cell_type": "code",
   "execution_count": 64,
   "id": "05fb6458",
   "metadata": {},
   "outputs": [
    {
     "name": "stdout",
     "output_type": "stream",
     "text": [
      "interpreted\n"
     ]
    }
   ],
   "source": [
    "str2=\"python is an interpreted high level lanuage gernal perpose for use it\"\n",
    "s=str2.split(\" \")\n",
    "print(s[3])"
   ]
  },
  {
   "cell_type": "code",
   "execution_count": 65,
   "id": "83cd2ceb",
   "metadata": {},
   "outputs": [
    {
     "name": "stdout",
     "output_type": "stream",
     "text": [
      "mango,apple,bananan <class 'str'>\n",
      "['mango', 'apple', 'bananan']\n"
     ]
    }
   ],
   "source": [
    "list2=[\"mango\",\"apple\",\"bananan\"]\n",
    "str12=\",\".join(list2)#convert your list into string using joind method\n",
    "print(str12,type(str12))\n",
    "a=str(list2)\n",
    "print(a)"
   ]
  },
  {
   "cell_type": "code",
   "execution_count": 66,
   "id": "443959cd",
   "metadata": {},
   "outputs": [
    {
     "name": "stdout",
     "output_type": "stream",
     "text": [
      "<class 'tuple'>\n"
     ]
    }
   ],
   "source": [
    "t1=(\"hello\",)\n",
    "print(type(t1))"
   ]
  },
  {
   "cell_type": "code",
   "execution_count": null,
   "id": "1a2c7f56",
   "metadata": {},
   "outputs": [],
   "source": [
    "t = \"python\"\n",
    "T=int(input(\"enter the number: \"))\n",
    "new_t = t[:T] + t[T+1:]  \n",
    "print(new_t)\n",
    "\n"
   ]
  },
  {
   "cell_type": "code",
   "execution_count": null,
   "id": "e4eb5996",
   "metadata": {},
   "outputs": [],
   "source": []
  },
  {
   "cell_type": "code",
   "execution_count": null,
   "id": "40dcc21b",
   "metadata": {},
   "outputs": [],
   "source": []
  },
  {
   "cell_type": "code",
   "execution_count": null,
   "id": "5be12319",
   "metadata": {},
   "outputs": [],
   "source": []
  }
 ],
 "metadata": {
  "kernelspec": {
   "display_name": "Python 3 (ipykernel)",
   "language": "python",
   "name": "python3"
  },
  "language_info": {
   "codemirror_mode": {
    "name": "ipython",
    "version": 3
   },
   "file_extension": ".py",
   "mimetype": "text/x-python",
   "name": "python",
   "nbconvert_exporter": "python",
   "pygments_lexer": "ipython3",
   "version": "3.12.4"
  }
 },
 "nbformat": 4,
 "nbformat_minor": 5
}
