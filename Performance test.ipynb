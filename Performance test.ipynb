{
 "cells": [
  {
   "cell_type": "code",
   "execution_count": null,
   "id": "07bbed02",
   "metadata": {},
   "outputs": [],
   "source": [
    "#1.Python Program to Find the Square Root.\n",
    "for i in range(1,10):\n",
    "    square_root=i**0.5\n",
    "    print(f\"sqrae {i} is root {square_root:.4f}\")\n",
    "    \n"
   ]
  },
  {
   "cell_type": "code",
   "execution_count": null,
   "id": "81019348",
   "metadata": {},
   "outputs": [],
   "source": [
    "#2.Python Program to Calculate the Area of a Triangle\n",
    "b,h=5,4\n",
    "t= 0.5* b * h\n",
    "print(t)"
   ]
  },
  {
   "cell_type": "code",
   "execution_count": null,
   "id": "d85ac50c",
   "metadata": {},
   "outputs": [],
   "source": [
    "#3.Python Program to Swap Two Variables\n",
    "x = 5\n",
    "y = 10\n",
    "\n",
    "x, y = y, x\n",
    "\n",
    "print(\"x =\", x)\n",
    "print(\"y =\", y)\n"
   ]
  },
  {
   "cell_type": "code",
   "execution_count": null,
   "id": "75ffc633",
   "metadata": {},
   "outputs": [],
   "source": [
    "#4.Python Program to Convert Kilometers to Miles .\n",
    "k=int(input(\"enter the kilomiter:\"))\n",
    "print(f\" {k}Kilometers to Miles \",k*0.62137119)\n"
   ]
  },
  {
   "cell_type": "code",
   "execution_count": null,
   "id": "2be92dee",
   "metadata": {},
   "outputs": [],
   "source": [
    "#5.Python Program to Convert Celsius To Fahrenheit .\n",
    "c=float(input(\"enter the Celsius:\"))\n",
    "print(f\"{c}Celsius  Fahrenheit \", (c * 1.8) + 32)"
   ]
  },
  {
   "cell_type": "code",
   "execution_count": null,
   "id": "85906998",
   "metadata": {},
   "outputs": [],
   "source": [
    "#6.Python Program to Check if a Number is Positive, Negative or 0 \n",
    "c=int(input(\"enter the number:\"))\n",
    "if 0<c:\n",
    "    print(f\"{c} is positive\")\n",
    "elif 0>c:\n",
    "    print(f\"{c} is negative\")\n",
    "else:\n",
    "    print(f\"{c} is zero\")\n"
   ]
  },
  {
   "cell_type": "code",
   "execution_count": null,
   "id": "33227cc4",
   "metadata": {},
   "outputs": [],
   "source": [
    "#7.Python Program to Check if a Number is Odd or Even\n",
    "n=int(input(\"enter the number:\"))\n",
    "if n%2==0:\n",
    "    print(f\"{n} is even\")\n",
    "else:\n",
    "    print(f\"{n} is odd\")"
   ]
  },
  {
   "cell_type": "code",
   "execution_count": null,
   "id": "8b211622",
   "metadata": {},
   "outputs": [],
   "source": [
    "#8.Python Program to Find the Largest Among Three Numbers.\n",
    "n1,n2,n3=7,7,7\n",
    "\n",
    "if n1>n2 and n1>n3:\n",
    "    print(f\"{n1} is large\")\n",
    "elif n2>n1 and n2>n3:\n",
    "    print(f\"{n2} is large\")\n",
    "elif n3>n2 and n3>n1:\n",
    "    print(f\"{n3} is large\")\n",
    "elif n3==n2 and n3==n1:\n",
    "    print(f\"{n3,n1,n2} is all are equal\")\n",
    "else:\n",
    "    print(\"enter the correct number\")"
   ]
  },
  {
   "cell_type": "code",
   "execution_count": null,
   "id": "c2166e63",
   "metadata": {},
   "outputs": [],
   "source": [
    "#9.Python Program to Check Prime Number.\n",
    "n=int(input(\"enter the number:\"))\n",
    "if (n%2) == 0:\n",
    "    print(f\"{n} is prime\")\n",
    "else:\n",
    "    print(f\"{n} is non-prime\")"
   ]
  },
  {
   "cell_type": "code",
   "execution_count": null,
   "id": "19ffbe99",
   "metadata": {},
   "outputs": [],
   "source": [
    "#10.Python Program to Print all Prime Numbers in an Interval.\n",
    "for num in range(1, 10):\n",
    "   if num > 1:\n",
    "       for i in range(2, num):\n",
    "           if (num % i) == 0:\n",
    "               break\n",
    "       else:\n",
    "           print(num)"
   ]
  },
  {
   "cell_type": "code",
   "execution_count": null,
   "id": "005f7b65",
   "metadata": {
    "scrolled": true
   },
   "outputs": [],
   "source": [
    "#11.Python Program to Find the Factorial of a Number.\n",
    "a=5\n",
    "fact=1\n",
    "for i in range(1,a+1):\n",
    "    fact=fact*i\n",
    "print(fact)"
   ]
  },
  {
   "cell_type": "code",
   "execution_count": null,
   "id": "30092dbe",
   "metadata": {},
   "outputs": [],
   "source": [
    "#12.Python Program to Display the multiplication Table Code.\n",
    "n=int(input(\"enter the number:\"))\n",
    "for i in range(1,11):\n",
    "    print(i*n)\n"
   ]
  },
  {
   "cell_type": "code",
   "execution_count": 2,
   "id": "911c8d1d",
   "metadata": {},
   "outputs": [
    {
     "name": "stdout",
     "output_type": "stream",
     "text": [
      "enter number153\n",
      "same\n"
     ]
    }
   ],
   "source": [
    "#13.Python Program to Check Armstrong Number.\n",
    "a=int(input(\"enter number\"))\n",
    "s=0\n",
    "temp=a\n",
    "# while temp>0:\n",
    "#     d=temp%10\n",
    "#     s+=d**len(b)\n",
    "#     temp//=10\n",
    "\n",
    "for i in range(temp,0,-1):\n",
    "    d=temp%10\n",
    "    s+=d**3   \n",
    "    temp//=10\n",
    "    \n",
    "if a==s:\n",
    "    print(\"same\")\n",
    "else:\n",
    "    print(\"no\")"
   ]
  },
  {
   "cell_type": "code",
   "execution_count": 5,
   "id": "6a7f86a5",
   "metadata": {},
   "outputs": [
    {
     "name": "stdout",
     "output_type": "stream",
     "text": [
      "153\n",
      "370\n",
      "371\n",
      "407\n",
      "1634\n"
     ]
    }
   ],
   "source": [
    "#14.Python Program to Find Armstrong Number in an Interval.\n",
    "for num in range(100, 2000 + 1):\n",
    "    order = len(str(num)) \n",
    "    temp = num\n",
    "    total = 0\n",
    "\n",
    "    while temp > 0:\n",
    "        digit = temp % 10\n",
    "        total += digit ** order\n",
    "        temp //= 10\n",
    "\n",
    "    if num == total:\n",
    "        print(num)\n"
   ]
  },
  {
   "cell_type": "code",
   "execution_count": 4,
   "id": "10b60afa",
   "metadata": {},
   "outputs": [
    {
     "name": "stdout",
     "output_type": "stream",
     "text": [
      "The sum is 136\n"
     ]
    }
   ],
   "source": [
    "#15.Python Program to Find the Sum of Natural Numbers.\n",
    "\n",
    "num = 16\n",
    "\n",
    "if num < 0:\n",
    "    print(\"Enter a positive number\")\n",
    "else:\n",
    "    sum = 0\n",
    "    while(num > 0):\n",
    "        sum += num\n",
    "        num -= 1\n",
    "    print(\"The sum is\", sum)"
   ]
  },
  {
   "cell_type": "code",
   "execution_count": 10,
   "id": "d7a73a3a",
   "metadata": {},
   "outputs": [
    {
     "name": "stdout",
     "output_type": "stream",
     "text": [
      "Numbers divisible by 5 : [5, 10, 15, 20, 25]\n"
     ]
    }
   ],
   "source": [
    "#16.Python Program to Find Numbers Divisible by Another Number.\n",
    "\n",
    "divisible =[5,10,15,20,25,22,13,27]\n",
    "divisor =5\n",
    "by=[]\n",
    "for i in divisible:\n",
    "    if i % divisor == 0:\n",
    "        by.append(i)\n",
    "\n",
    "print(\"Numbers divisible by\", divisor, \":\", by)\n",
    "    "
   ]
  },
  {
   "cell_type": "code",
   "execution_count": 17,
   "id": "0cf1a076",
   "metadata": {},
   "outputs": [
    {
     "name": "stdout",
     "output_type": "stream",
     "text": [
      "Enter the first number: 48\n",
      "Enter the second number: 18\n",
      "The HCF or GCD of the given numbers is: 18\n",
      "The HCF or GCD of the given numbers is: 12\n",
      "The HCF or GCD of the given numbers is: 6\n"
     ]
    }
   ],
   "source": [
    "#17.Python Program to Find HCF or GCD.\n",
    "\n",
    "num1 = int(input(\"Enter the first number: \"))\n",
    "num2 = int(input(\"Enter the second number: \"))\n",
    "\n",
    "if num2 > num1:\n",
    "    num1, num2 = num2, num1\n",
    "\n",
    "while num2 != 0:\n",
    "    remainder = num1 % num2   #48 % 18 = 12\n",
    "    num1 = num2               #18 % 12 = 6\n",
    "    num2 = remainder          #12 % 6 = 0 \n",
    "\n",
    "#     num1 = num2\n",
    "#     num2 = remainder\n",
    "\n",
    "    gcd = num1\n",
    "    print(f\"The HCF or GCD of the given numbers is: {gcd}\")\n"
   ]
  },
  {
   "cell_type": "code",
   "execution_count": 13,
   "id": "45942e49",
   "metadata": {},
   "outputs": [
    {
     "name": "stdout",
     "output_type": "stream",
     "text": [
      "Enter the first number: 48\n",
      "Enter the second number: 18\n",
      "The LCM of 48 and 18 is 864\n"
     ]
    }
   ],
   "source": [
    "#18.Python Program to Find LCM.\n",
    "num1 = int(input(\"Enter the first number: \"))\n",
    "num2 = int(input(\"Enter the second number: \"))\n",
    "c=max(num1,num2)\n",
    "result=0\n",
    "for i in range(c,(num1*num2)+1):\n",
    "    if (i%num1==0)and (i%num2==0):\n",
    "        result=i\n",
    "        print(f\"The LCM of {num1} and {num2} is {result}\")"
   ]
  },
  {
   "cell_type": "code",
   "execution_count": 6,
   "id": "c0f400e4",
   "metadata": {},
   "outputs": [
    {
     "name": "stdout",
     "output_type": "stream",
     "text": [
      "Yes, it's a palindrome.\n"
     ]
    }
   ],
   "source": [
    "#19.Python Program to Check Whether a String is Palindrome or Not.\n",
    "st = 'moom'\n",
    "j = -1\n",
    "flag = 0\n",
    "for i in st:\n",
    "    if i != st[j]:\n",
    "        flag = 1\n",
    "        break\n",
    "    j -= 1\n",
    "if flag == 1:\n",
    "    print(\"No, it's not a palindrome.\")\n",
    "else:\n",
    "    print(\"Yes, it's a palindrome.\")\n"
   ]
  },
  {
   "cell_type": "code",
   "execution_count": 5,
   "id": "a617298a",
   "metadata": {},
   "outputs": [
    {
     "name": "stdout",
     "output_type": "stream",
     "text": [
      "The original string is : qwerty,poiuyt!asdfgh?jklzx.bnm,?<>/\n",
      "The string after punctuation filter : qwerty poiuyt asdfgh jklzx bnm     \n"
     ]
    }
   ],
   "source": [
    "#20.Python Program to Remove Punctuations From a String.\n",
    "\n",
    "test_str = \"qwerty,poiuyt!asdfgh?jklzx.bnm,?<>/\"\n",
    "print(\"The original string is : \" + test_str)\n",
    "punc = '''!()-[]{};:'\"\\,<>./?@#$%^&*_~'''\n",
    "\n",
    "for ele in test_str:\n",
    "    if ele in punc:\n",
    "        test_str = test_str.replace(ele, \" \")\n",
    "        \n",
    "print(\"The string after punctuation filter : \" + test_str)"
   ]
  },
  {
   "cell_type": "code",
   "execution_count": 11,
   "id": "129e2b9f",
   "metadata": {},
   "outputs": [
    {
     "name": "stdout",
     "output_type": "stream",
     "text": [
      "Words in alphabetic order: apple banana cherry date fig\n"
     ]
    }
   ],
   "source": [
    "#21.Python Program to Sort Words in Alphabetic Order.\n",
    "\n",
    "input_string = \"cherry banana date apple fig\"\n",
    "words = input_string.split()\n",
    "\n",
    "n = len(words)\n",
    "for i in range(1, n):\n",
    "    key = words[i]\n",
    "    j = i - 1\n",
    "    while j >= 0 and words[j] > key:\n",
    "        words[j + 1] = words[j]\n",
    "        j -= 1\n",
    "    words[j + 1] = key\n",
    "\n",
    "sorted_string = \" \".join(words)\n",
    "print(\"Words in alphabetic order:\", sorted_string)\n"
   ]
  },
  {
   "cell_type": "code",
   "execution_count": 14,
   "id": "afe954b7",
   "metadata": {},
   "outputs": [
    {
     "name": "stdout",
     "output_type": "stream",
     "text": [
      "{'a': 2, 's': 1, 'd': 1, 'e': 5, 'i': 3, 'o': 5, 'u': 3}\n"
     ]
    }
   ],
   "source": [
    "#23.Python Program to Count the Number of Each Vowel.\n",
    "\n",
    "vowels = 'aeiou'\n",
    "ip_str = 'Hello, have you tried our tutorial section yet?'\n",
    "\n",
    "ip_str = ip_str.casefold()\n",
    "\n",
    "count = {}.fromkeys(vowels,0)\n",
    "\n",
    "for char in ip_str:\n",
    "    if char in count:\n",
    "        count[char] += 1\n",
    "\n",
    "print(count)\n"
   ]
  },
  {
   "cell_type": "code",
   "execution_count": 3,
   "id": "6d09e089",
   "metadata": {},
   "outputs": [
    {
     "name": "stdout",
     "output_type": "stream",
     "text": [
      " number 0 is numerals\n",
      " number 1 is positive\n",
      " number 2 is positive\n",
      " number 3 is positive\n",
      " number 4 is positive\n",
      " number 5 is positive\n",
      " number 6 is positive\n",
      " number 7 is positive\n",
      " number 8 is positive\n",
      " number 9 is positive\n"
     ]
    }
   ],
   "source": [
    "#27.Python program to print all positive numbers in a range.\n",
    "#28.Python program to print all negative numbers in a range.\n",
    "for i in range (10):\n",
    "    if i==0:\n",
    "        print(f\" number {i} is numerals\")\n",
    "    elif i>0:\n",
    "        print(f\" number {i} is positive\")\n",
    "    else:\n",
    "        print(f\" number {i} is negative\")"
   ]
  },
  {
   "cell_type": "code",
   "execution_count": 2,
   "id": "bfdfd11a",
   "metadata": {},
   "outputs": [
    {
     "name": "stdout",
     "output_type": "stream",
     "text": [
      "[1, 2, 4, 5, 7, 8, 9]\n"
     ]
    }
   ],
   "source": [
    "# 30.Program to print duplicates from a list of integers.\n",
    "a = [1, 1, 2, 4, 5, 5, 7, 8, 8, 9, 9]\n",
    "x = []\n",
    "[x.append(i) for i in a if i not in x]\n",
    "print(x)\n"
   ]
  },
  {
   "cell_type": "code",
   "execution_count": 3,
   "id": "a7e96b3f",
   "metadata": {},
   "outputs": [
    {
     "name": "stdout",
     "output_type": "stream",
     "text": [
      "Union of E and N is {0, 1, 2, 3, 4, 5, 6, 8}\n",
      "Intersection of E and N is {2, 4}\n",
      "Difference of E and N is {0, 8, 6}\n",
      "Symmetric difference of E and N is {0, 1, 3, 5, 6, 8}\n"
     ]
    }
   ],
   "source": [
    "# 22.Python Program to Illustrate Different Set Operations\n",
    "E = {0, 2, 4, 6, 8}\n",
    "N = {1, 2, 3, 4, 5}\n",
    "\n",
    "print(\"Union of E and N is\", E | N)\n",
    "\n",
    "print(\"Intersection of E and N is\", E & N)\n",
    "\n",
    "print(\"Difference of E and N is\", E - N)\n",
    "\n",
    "print(\"Symmetric difference of E and N is\", E ^ N)\n"
   ]
  },
  {
   "cell_type": "code",
   "execution_count": 9,
   "id": "ffd21ff2",
   "metadata": {},
   "outputs": [
    {
     "name": "stdout",
     "output_type": "stream",
     "text": [
      "Original list: [10, 0, 1, 2, 3, 4, 5, 7, 9, 0]\n",
      "List after swapping first and last elements: [0, 0, 1, 2, 3, 4, 5, 7, 9, 10]\n"
     ]
    }
   ],
   "source": [
    "# 24.Python program to interchange first and last elements in a list.\n",
    "\n",
    "my_list = [10,0,1, 2, 3, 4, 5,7,9,0]\n",
    "print(\"Original list:\", my_list)\n",
    "n = len(my_list)\n",
    "\n",
    "if n > 1:\n",
    "    temp = my_list[0]\n",
    "    my_list[0] = my_list[n - 1]\n",
    "    my_list[n - 1] = temp\n",
    "\n",
    "print(\"List after swapping first and last elements:\", my_list)\n"
   ]
  },
  {
   "cell_type": "code",
   "execution_count": 13,
   "id": "0b65b370",
   "metadata": {},
   "outputs": [
    {
     "name": "stdout",
     "output_type": "stream",
     "text": [
      "Original list: [3, 1, 4, 1, 5, 9, 2, 6, 5, 0, -1]\n",
      "The smallest number in the list is: -1\n"
     ]
    }
   ],
   "source": [
    "# 25.Python program to find smallest number in a list.\n",
    "\n",
    "numbers = [3, 1, 4, 1, 5, 9, 2, 6, 5,0,-1]\n",
    "print(\"Original list:\", numbers)\n",
    "smallest_number = numbers[0]\n",
    "for number in numbers:\n",
    "    if number < smallest_number:\n",
    "        smallest_number = number\n",
    "\n",
    "print(\"The smallest number in the list is:\", smallest_number)\n",
    "\n"
   ]
  },
  {
   "cell_type": "code",
   "execution_count": 16,
   "id": "4b4ffaf8",
   "metadata": {},
   "outputs": [
    {
     "name": "stdout",
     "output_type": "stream",
     "text": [
      "Original list: [3, 1, 4, 1, 5, 9, 2, 6, 5, 0, -1, 21]\n",
      "The largest number in the list is: 21\n"
     ]
    }
   ],
   "source": [
    "# 26.Python program to find largest number in a list.\n",
    "numbers = [3, 1, 4, 1, 5, 9, 2, 6, 5,0,-1,21]\n",
    "print(\"Original list:\", numbers)\n",
    "largest_number = numbers[0]\n",
    "for number in numbers:\n",
    "    if number > largest_number:\n",
    "        largest_number = number\n",
    "\n",
    "print(\"The largest number in the list is:\", largest_number)\n"
   ]
  },
  {
   "cell_type": "code",
   "execution_count": 18,
   "id": "df50d9da",
   "metadata": {},
   "outputs": [
    {
     "name": "stdout",
     "output_type": "stream",
     "text": [
      "Original list: [11, 5, 17, 18, 23, 50, 30]\n",
      "New list after removing elements: [30]\n"
     ]
    }
   ],
   "source": [
    "# 31.Remove multiple elements from a list in Python.(11,5,17,18,23,50) \n",
    "original_list = [11, 5, 17, 18, 23, 50,30]\n",
    "elements_to_remove = [11, 5, 17, 18, 23, 50] \n",
    "\n",
    "new_list = [x for x in original_list if x not in elements_to_remove]\n",
    "\n",
    "print(\"Original list:\", original_list)\n",
    "print(\"New list after removing elements:\", new_list)\n"
   ]
  },
  {
   "cell_type": "code",
   "execution_count": 19,
   "id": "a9ffb789",
   "metadata": {},
   "outputs": [
    {
     "name": "stdout",
     "output_type": "stream",
     "text": [
      "[1, 4, 9, 16, 25]\n"
     ]
    }
   ],
   "source": [
    "# 32.Given a Python list of numbers. Turn every item of a list into its square Given:\n",
    "#  List = [1, 2, 3, 4, 5, 6, 7]\n",
    "my_list = [1, 2, 3, 4, 5]\n",
    "squared_list = [number ** 2 for number in my_list]\n",
    "print(squared_list)\n"
   ]
  },
  {
   "cell_type": "code",
   "execution_count": 23,
   "id": "2e4edbde",
   "metadata": {},
   "outputs": [
    {
     "name": "stdout",
     "output_type": "stream",
     "text": [
      "list1 item: 10 | list2 item (reversed): 400\n",
      "list1 item: 20 | list2 item (reversed): 300\n",
      "list1 item: 30 | list2 item (reversed): 200\n",
      "list1 item: 40 | list2 item (reversed): 100\n"
     ]
    }
   ],
   "source": [
    "# 33.Given a two Python list. Iterate both lists simultaneously such that \n",
    "# list1 should display item in original order and list2 in reverse order.\n",
    "#     list1=[10,20,30,40]\n",
    "#     list2=[100,200,300,400]\n",
    "list1 = [10, 20, 30, 40]\n",
    "list2 = [100, 200, 300, 400]\n",
    "\n",
    "for item1, item2 in zip(list1, reversed(list2)):\n",
    "    print(f\"list1 item: {item1} | list2 item (reversed): {item2}\")\n"
   ]
  },
  {
   "cell_type": "code",
   "execution_count": null,
   "id": "cab065c6",
   "metadata": {},
   "outputs": [],
   "source": []
  }
 ],
 "metadata": {
  "kernelspec": {
   "display_name": "Python 3 (ipykernel)",
   "language": "python",
   "name": "python3"
  },
  "language_info": {
   "codemirror_mode": {
    "name": "ipython",
    "version": 3
   },
   "file_extension": ".py",
   "mimetype": "text/x-python",
   "name": "python",
   "nbconvert_exporter": "python",
   "pygments_lexer": "ipython3",
   "version": "3.11.5"
  }
 },
 "nbformat": 4,
 "nbformat_minor": 5
}
