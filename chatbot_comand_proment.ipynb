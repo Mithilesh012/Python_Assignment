{
 "cells": [
  {
   "cell_type": "code",
   "execution_count": null,
   "id": "48d265e9-407b-476a-b814-7e83723577d8",
   "metadata": {
    "scrolled": true
   },
   "outputs": [],
   "source": [
    "#pip install ChatterBot\n",
    "# bot.py\n",
    "# from ChatterBot import ChatBot\n",
    "# chatbot = ChatBot(\"Chatpot\")\n",
    "\n",
    "# exit_conditions = (\":q\", \"quit\", \"exit\")\n",
    "# while True:\n",
    "#     query = input(\"> \")\n",
    "#     if query in exit_conditions:\n",
    "#         break\n",
    "#     else:\n",
    "#         print(f\" {chatbot.get_response(query)}\")"
   ]
  },
  {
   "cell_type": "code",
   "execution_count": 6,
   "id": "249ebb92-2d32-4d54-9b3d-9f6105467fcb",
   "metadata": {},
   "outputs": [
    {
     "name": "stdin",
     "output_type": "stream",
     "text": [
      "you- fine\n"
     ]
    },
    {
     "name": "stdout",
     "output_type": "stream",
     "text": [
      "how can i help you\n"
     ]
    },
    {
     "name": "stdin",
     "output_type": "stream",
     "text": [
      "you- deatil\n"
     ]
    },
    {
     "name": "stdout",
     "output_type": "stream",
     "text": [
      "I don't understand that.\n"
     ]
    },
    {
     "name": "stdin",
     "output_type": "stream",
     "text": [
      "you- deatil of your\n"
     ]
    },
    {
     "name": "stdout",
     "output_type": "stream",
     "text": [
      "its made by the python using desnary and member oprater and funtions and loop! only\n"
     ]
    },
    {
     "name": "stdin",
     "output_type": "stream",
     "text": [
      "you- bye\n"
     ]
    },
    {
     "name": "stdout",
     "output_type": "stream",
     "text": [
      "Goodbye!\n"
     ]
    }
   ],
   "source": [
    "response = {\"hello\": \"hello how are you\",\n",
    "            \"fine\":\"how can i help you\",\n",
    "            \"deatil of your\":\"its made by the python using desnary and member oprater and funtions and loop! only\",\n",
    "            \"help\":\"contact into deve learn 9946984*****\",\n",
    "            \"python\":\" python easy to under high level lanuage\",\n",
    "            \"hitesh\":\"are my batch mate and friends also\",\n",
    "            \"nilesh\":\"are my batch mate and friends also\",\n",
    "            \n",
    "           }\n",
    "\n",
    "def chat():\n",
    "    while True:\n",
    "        message = input(\"you-\").lower()\n",
    "        if message == \"bye\":\n",
    "            print(\"Goodbye!\")\n",
    "            break\n",
    "        elif message in response:\n",
    "            print(response[message])\n",
    "        else:\n",
    "            print(\"I don't understand that.\")\n",
    "\n",
    "chat()\n"
   ]
  },
  {
   "cell_type": "code",
   "execution_count": 10,
   "id": "37dcb27b-bc01-4801-838b-14ee8641b5fc",
   "metadata": {},
   "outputs": [
    {
     "name": "stdin",
     "output_type": "stream",
     "text": [
      "you- hello\n"
     ]
    },
    {
     "name": "stdout",
     "output_type": "stream",
     "text": [
      "hello how are you\n"
     ]
    },
    {
     "name": "stdin",
     "output_type": "stream",
     "text": [
      "you- deatil\n"
     ]
    },
    {
     "name": "stdout",
     "output_type": "stream",
     "text": [
      "its made by Python using dictionary and member operators, functions, and loops! only\n"
     ]
    },
    {
     "name": "stdin",
     "output_type": "stream",
     "text": [
      "you- nilesh\n"
     ]
    },
    {
     "name": "stdout",
     "output_type": "stream",
     "text": [
      "are my batch mate and friends also\n"
     ]
    },
    {
     "name": "stdin",
     "output_type": "stream",
     "text": [
      "you- bye\n"
     ]
    },
    {
     "name": "stdout",
     "output_type": "stream",
     "text": [
      "Goodbye!\n"
     ]
    }
   ],
   "source": [
    "response = {\n",
    "    \"hello\": \"hello how are you\",\n",
    "    \"fine\": \"how can I help you\",\n",
    "    \"deatil of your\": \"its made by Python using dictionary and member operators, functions, and loops! only\",\n",
    "    \"what is your purpose\": \"My purpose is to assist you with information and tasks.\",\n",
    "    \"who created you\": \"I was created by a mith using Python.\",\n",
    "    \"favorite language\": \"I love all languages, but Python is my favorite!\",\n",
    "    \"help\": \"contact into deve learn 9946984*****\",\n",
    "    \"python\": \"Python is an easy to understand high-level language\",\n",
    "    \"hitesh\": \"are my batch mate and friends also\",\n",
    "    \"nilesh\": \"are my batch mate and friends also\",\n",
    "}\n",
    "\n",
    "def chat():\n",
    "    while True:\n",
    "        message = input(\"you-\").lower()\n",
    "        if message == \"bye\":\n",
    "            print(\"Goodbye!\")\n",
    "            break\n",
    "        for i in response:\n",
    "            if message in i:\n",
    "                print(response[i])\n",
    "    else:\n",
    "        print(\"I don't understand that.\")\n",
    "        \n",
    "\n",
    "chat()\n"
   ]
  },
  {
   "cell_type": "code",
   "execution_count": null,
   "id": "10e68e50-ce44-405e-b070-f93f808986b3",
   "metadata": {},
   "outputs": [],
   "source": []
  }
 ],
 "metadata": {
  "kernelspec": {
   "display_name": "Python 3 (ipykernel)",
   "language": "python",
   "name": "python3"
  },
  "language_info": {
   "codemirror_mode": {
    "name": "ipython",
    "version": 3
   },
   "file_extension": ".py",
   "mimetype": "text/x-python",
   "name": "python",
   "nbconvert_exporter": "python",
   "pygments_lexer": "ipython3",
   "version": "3.12.4"
  }
 },
 "nbformat": 4,
 "nbformat_minor": 5
}
